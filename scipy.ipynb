{
 "cells": [
  {
   "cell_type": "code",
   "execution_count": 1,
   "id": "3e9ebb7c",
   "metadata": {},
   "outputs": [],
   "source": [
    "import scipy \n"
   ]
  },
  {
   "cell_type": "code",
   "execution_count": 2,
   "id": "77c2662e",
   "metadata": {},
   "outputs": [
    {
     "name": "stdout",
     "output_type": "stream",
     "text": [
      "1.9.1\n"
     ]
    }
   ],
   "source": [
    "print(scipy.__version__)\n"
   ]
  },
  {
   "cell_type": "code",
   "execution_count": 5,
   "id": "2d237dab",
   "metadata": {},
   "outputs": [
    {
     "name": "stdout",
     "output_type": "stream",
     "text": [
      "1.380649e-23\n"
     ]
    }
   ],
   "source": [
    "from scipy import constants\n",
    "print(constants.Boltzmann)\n"
   ]
  },
  {
   "cell_type": "markdown",
   "id": "4fe8d20f",
   "metadata": {},
   "source": [
    "# all constant module"
   ]
  },
  {
   "cell_type": "code",
   "execution_count": 4,
   "id": "a307e1a5",
   "metadata": {},
   "outputs": [
    {
     "name": "stdout",
     "output_type": "stream",
     "text": [
      "['Avogadro', 'Boltzmann', 'Btu', 'Btu_IT', 'Btu_th', 'ConstantWarning', 'G', 'Julian_year', 'N_A', 'Planck', 'R', 'Rydberg', 'Stefan_Boltzmann', 'Wien', '__all__', '__builtins__', '__cached__', '__doc__', '__file__', '__loader__', '__name__', '__package__', '__path__', '__spec__', '_codata', '_constants', '_obsolete_constants', 'acre', 'alpha', 'angstrom', 'arcmin', 'arcminute', 'arcsec', 'arcsecond', 'astronomical_unit', 'atm', 'atmosphere', 'atomic_mass', 'atto', 'au', 'bar', 'barrel', 'bbl', 'blob', 'c', 'calorie', 'calorie_IT', 'calorie_th', 'carat', 'centi', 'codata', 'constants', 'convert_temperature', 'day', 'deci', 'degree', 'degree_Fahrenheit', 'deka', 'dyn', 'dyne', 'e', 'eV', 'electron_mass', 'electron_volt', 'elementary_charge', 'epsilon_0', 'erg', 'exa', 'exbi', 'femto', 'fermi', 'find', 'fine_structure', 'fluid_ounce', 'fluid_ounce_US', 'fluid_ounce_imp', 'foot', 'g', 'gallon', 'gallon_US', 'gallon_imp', 'gas_constant', 'gibi', 'giga', 'golden', 'golden_ratio', 'grain', 'gram', 'gravitational_constant', 'h', 'hbar', 'hectare', 'hecto', 'horsepower', 'hour', 'hp', 'inch', 'k', 'kgf', 'kibi', 'kilo', 'kilogram_force', 'kmh', 'knot', 'lambda2nu', 'lb', 'lbf', 'light_year', 'liter', 'litre', 'long_ton', 'm_e', 'm_n', 'm_p', 'm_u', 'mach', 'mebi', 'mega', 'metric_ton', 'micro', 'micron', 'mil', 'mile', 'milli', 'minute', 'mmHg', 'mph', 'mu_0', 'nano', 'nautical_mile', 'neutron_mass', 'nu2lambda', 'ounce', 'oz', 'parsec', 'pebi', 'peta', 'physical_constants', 'pi', 'pico', 'point', 'pound', 'pound_force', 'precision', 'proton_mass', 'psi', 'pt', 'short_ton', 'sigma', 'slinch', 'slug', 'speed_of_light', 'speed_of_sound', 'stone', 'survey_foot', 'survey_mile', 'tebi', 'tera', 'test', 'ton_TNT', 'torr', 'troy_ounce', 'troy_pound', 'u', 'unit', 'value', 'week', 'yard', 'year', 'yobi', 'yocto', 'yotta', 'zebi', 'zepto', 'zero_Celsius', 'zetta']\n"
     ]
    }
   ],
   "source": [
    "from scipy import constants\n",
    "\n",
    "print(dir(constants))"
   ]
  },
  {
   "cell_type": "markdown",
   "id": "54c64551",
   "metadata": {},
   "source": [
    "# optimization\n",
    "take 2 argument function , and x0 - an initial guess for the root.\n",
    "\n"
   ]
  },
  {
   "cell_type": "code",
   "execution_count": 7,
   "id": "29c0097a",
   "metadata": {},
   "outputs": [
    {
     "name": "stdout",
     "output_type": "stream",
     "text": [
      "[-0.73908513]\n",
      "    fjac: array([[-1.]])\n",
      "     fun: array([0.])\n",
      " message: 'The solution converged.'\n",
      "    nfev: 11\n",
      "     qtf: array([2.57793786e-13])\n",
      "       r: array([-1.67361203])\n",
      "  status: 1\n",
      " success: True\n",
      "       x: array([-0.73908513])\n"
     ]
    }
   ],
   "source": [
    "from scipy.optimize import root\n",
    "from math import cos\n",
    "def eqn(x):\n",
    "    return x + cos(x)\n",
    "myroot=root(eqn, 1)\n",
    "print(myroot.x)\n",
    "print(myroot)"
   ]
  },
  {
   "cell_type": "markdown",
   "id": "b2267f01",
   "metadata": {},
   "source": [
    "# minimizing a function"
   ]
  },
  {
   "cell_type": "markdown",
   "id": "b77dcb59",
   "metadata": {},
   "source": [
    "# 1. minima low point"
   ]
  },
  {
   "cell_type": "code",
   "execution_count": 10,
   "id": "3f9d4c29",
   "metadata": {},
   "outputs": [
    {
     "name": "stdout",
     "output_type": "stream",
     "text": [
      "      fun: 1.75\n",
      " hess_inv: array([[0.50000001]])\n",
      "      jac: array([0.])\n",
      "  message: 'Optimization terminated successfully.'\n",
      "     nfev: 8\n",
      "      nit: 2\n",
      "     njev: 4\n",
      "   status: 0\n",
      "  success: True\n",
      "        x: array([-0.50000001])\n"
     ]
    }
   ],
   "source": [
    "from scipy.optimize import minimize\n",
    "\n",
    "def eqn(x):\n",
    "    return x**2 + x + 2\n",
    "\n",
    "mymin = minimize(eqn, 0, method='BFGS')\n",
    "\n",
    "print(mymin)\n"
   ]
  },
  {
   "cell_type": "code",
   "execution_count": 13,
   "id": "8596e726",
   "metadata": {},
   "outputs": [
    {
     "name": "stdout",
     "output_type": "stream",
     "text": [
      "Minimum found at: [0.99999999 2.49999999]\n",
      "Minimum value: 1.6864937366171232e-16\n"
     ]
    }
   ],
   "source": [
    "from scipy.optimize import minimize\n",
    "\n",
    "def objective_function(x):\n",
    "    return (x[0] - 1)**2 + (x[1] - 2.5)**2\n",
    "\n",
    "initial_guess = [0, 0]\n",
    "result = minimize(objective_function, initial_guess, method='trust-constr')\n",
    "\n",
    "print(\"Minimum found at:\", result.x)\n",
    "print(\"Minimum value:\", result.fun)\n"
   ]
  },
  {
   "cell_type": "markdown",
   "id": "6c2f714a",
   "metadata": {},
   "source": [
    "# sparse matrix"
   ]
  },
  {
   "cell_type": "code",
   "execution_count": 15,
   "id": "797ce718",
   "metadata": {},
   "outputs": [
    {
     "name": "stdout",
     "output_type": "stream",
     "text": [
      "  (1, 2)\t1\n",
      "  (2, 0)\t1\n",
      "  (2, 2)\t2\n"
     ]
    }
   ],
   "source": [
    "import numpy as np\n",
    "from scipy.sparse import csr_matrix\n",
    "\n",
    "arr = np.array([[0, 0, 0], [0, 0, 1], [1, 0, 2]])\n",
    "\n",
    "print(csr_matrix(arr))\n"
   ]
  },
  {
   "cell_type": "markdown",
   "id": "1fc8e124",
   "metadata": {},
   "source": [
    "# for removing zero"
   ]
  },
  {
   "cell_type": "code",
   "execution_count": 16,
   "id": "946f5acc",
   "metadata": {},
   "outputs": [
    {
     "name": "stdout",
     "output_type": "stream",
     "text": [
      "  (1, 2)\t1\n",
      "  (2, 0)\t1\n",
      "  (2, 2)\t2\n"
     ]
    }
   ],
   "source": [
    "import numpy as np\n",
    "from scipy.sparse import csr_matrix\n",
    "\n",
    "arr = np.array([[0, 0, 0], [0, 0, 1], [1, 0, 2]])\n",
    "\n",
    "mat = csr_matrix(arr)\n",
    "mat.eliminate_zeros()\n",
    "\n",
    "print(mat)\n"
   ]
  },
  {
   "cell_type": "code",
   "execution_count": 18,
   "id": "0f7ecabc",
   "metadata": {},
   "outputs": [
    {
     "name": "stdout",
     "output_type": "stream",
     "text": [
      "  (2, 0)\t2\n",
      "  (2, 2)\t2\n"
     ]
    }
   ],
   "source": [
    "import numpy as np\n",
    "from scipy.sparse import csr_matrix\n",
    "\n",
    "arr = np.array([[0, 0, 0], [0, 0, 0], [2, 0, 2]])\n",
    "\n",
    "mat = csr_matrix(arr)\n",
    "mat.sum_duplicates()\n",
    "\n",
    "print(mat)"
   ]
  },
  {
   "cell_type": "markdown",
   "id": "64ec3513",
   "metadata": {},
   "source": [
    "# to csc"
   ]
  },
  {
   "cell_type": "code",
   "execution_count": 19,
   "id": "3b22a8b9",
   "metadata": {},
   "outputs": [
    {
     "name": "stdout",
     "output_type": "stream",
     "text": [
      "  (2, 0)\t1\n",
      "  (1, 2)\t1\n",
      "  (2, 2)\t2\n"
     ]
    }
   ],
   "source": [
    "import numpy as np\n",
    "from scipy.sparse import csr_matrix\n",
    "\n",
    "arr = np.array([[0, 0, 0], [0, 0, 1], [1, 0, 2]])\n",
    "\n",
    "newarr = csr_matrix(arr).tocsc()\n",
    "\n",
    "print(newarr)"
   ]
  },
  {
   "cell_type": "code",
   "execution_count": 22,
   "id": "ff8fd770",
   "metadata": {},
   "outputs": [
    {
     "name": "stdout",
     "output_type": "stream",
     "text": [
      "CSC Matrix:\n",
      "  (0, 0)\t1\n",
      "  (1, 0)\t2\n",
      "  (1, 1)\t3\n",
      "  (2, 2)\t4\n",
      "  (2, 2)\t5\n",
      "  (2, 2)\t6\n"
     ]
    }
   ],
   "source": [
    "import numpy as np\n",
    "from scipy.sparse import csc_matrix\n",
    "\n",
    "# Define the data, row indices, and column pointers\n",
    "data = np.array([1, 2, 3, 4, 5, 6])  # Non-zero values\n",
    "row_indices = np.array([0, 1, 1, 2, 2, 2])  # Row indices of non-zero values\n",
    "col_pointers = np.array([0, 2, 3, 6])  # Pointers to start of columns in data and row_indices\n",
    "\n",
    "# Create the CSC matrix\n",
    "csc_matrix_example = csc_matrix((data, row_indices, col_pointers), shape=(3, 3))\n",
    "\n",
    "# Print the CSC matrix\n",
    "print(\"CSC Matrix:\")\n",
    "print(csc_matrix_example)\n"
   ]
  },
  {
   "cell_type": "markdown",
   "id": "e40c7f99",
   "metadata": {},
   "source": [
    "# coo"
   ]
  },
  {
   "cell_type": "code",
   "execution_count": 23,
   "id": "1e84db75",
   "metadata": {},
   "outputs": [
    {
     "name": "stdout",
     "output_type": "stream",
     "text": [
      "COO Matrix:\n",
      "  (0, 0)\t1\n",
      "  (1, 1)\t2\n",
      "  (1, 2)\t3\n",
      "  (2, 0)\t4\n",
      "  (2, 2)\t5\n"
     ]
    }
   ],
   "source": [
    "import numpy as np\n",
    "from scipy.sparse import coo_matrix\n",
    "\n",
    "# Define the data, row indices, and column indices\n",
    "data = np.array([1, 2, 3, 4, 5])  # Non-zero values\n",
    "row_indices = np.array([0, 1, 1, 2, 2])  # Row indices of non-zero values\n",
    "col_indices = np.array([0, 1, 2, 0, 2])  # Column indices of non-zero values\n",
    "\n",
    "# Create the COO matrix\n",
    "coo_matrix_example = coo_matrix((data, (row_indices, col_indices)), shape=(3, 3))\n",
    "\n",
    "# Print the COO matrix\n",
    "print(\"COO Matrix:\")\n",
    "print(coo_matrix_example)\n"
   ]
  },
  {
   "cell_type": "markdown",
   "id": "d3de77ce",
   "metadata": {},
   "source": [
    "# adjecency matrix\n",
    "\n",
    "The number of connected components in the graph is 1. This means that the entire graph is connected; there are no disconnected subsets of vertices.\n",
    "The array [0, 0, 0] indicates the connected component each vertex belongs to. Since all vertices have the same label (0), it implies that they all belong to the same connected component. This suggests that all vertices in the graph are reachable from each other, directly or indirectly.\n"
   ]
  },
  {
   "cell_type": "code",
   "execution_count": 5,
   "id": "8b49f5aa",
   "metadata": {},
   "outputs": [
    {
     "name": "stdout",
     "output_type": "stream",
     "text": [
      "(1, array([0, 0, 0]))\n"
     ]
    }
   ],
   "source": [
    "import numpy as np\n",
    "from scipy.sparse.csgraph import connected_components\n",
    "from scipy.sparse import csr_matrix\n",
    "\n",
    "arr = np.array([\n",
    "  [1, 1, 2],\n",
    "  [1, 1, 3],\n",
    "  [2, 0, 5]\n",
    "])\n",
    "\n",
    "newarr = csr_matrix(arr)\n",
    "\n",
    "print(connected_components(newarr))\n"
   ]
  },
  {
   "cell_type": "markdown",
   "id": "3ebd6f69",
   "metadata": {},
   "source": [
    "# Dijkstra\n",
    "\n",
    "It takes following arguments:\n",
    "\n",
    "return_predecessors: boolean (True to return whole path of traversal otherwise False).\n",
    "indices: index of the element to return all paths from that element only.\n",
    "limit: max weight of path.\n",
    "\n",
    "The first element of the tuple (array([0., 1., 2.])) represents the shortest distances from the source vertex (index 0) to all other vertices in the graph.\n",
    "\n",
    "The second element of the tuple (array([-9999, 0, 0])) represents the predecessors of each vertex on the shortest path from the source vertex (index 0) to that vertex.\n",
    "The predecessor of vertex 0 (the source vertex) is set to a special value -9999 (indicating that it has no predecessor, as it's the starting point).\n"
   ]
  },
  {
   "cell_type": "code",
   "execution_count": 6,
   "id": "0f8e4092",
   "metadata": {},
   "outputs": [
    {
     "name": "stdout",
     "output_type": "stream",
     "text": [
      "(array([0., 1., 2.]), array([-9999,     0,     0]))\n"
     ]
    }
   ],
   "source": [
    "import numpy as np\n",
    "from scipy.sparse.csgraph import dijkstra\n",
    "from scipy.sparse import csr_matrix\n",
    "\n",
    "arr = np.array([\n",
    "  [0, 1, 2],\n",
    "  [1, 0, 0],\n",
    "  [2, 0, 0]\n",
    "])\n",
    "\n",
    "newarr = csr_matrix(arr)\n",
    "\n",
    "print(dijkstra(newarr, return_predecessors=True, indices=0))\n"
   ]
  },
  {
   "cell_type": "markdown",
   "id": "716f09f6",
   "metadata": {},
   "source": [
    "# Floyd-Warshall algorithm\n",
    "\n",
    "This matrix represents the shortest distances between all pairs of vertices in the graph.\n",
    "\n",
    "The predecessors matrix:\n",
    "This matrix represents the predecessors on the shortest paths from each vertex to every other vertex.\n",
    "Each entry predecessors[i][j] contains the predecessor vertex of vertex j on the shortest path from vertex i to vertex j"
   ]
  },
  {
   "cell_type": "code",
   "execution_count": 7,
   "id": "edd9596d",
   "metadata": {},
   "outputs": [
    {
     "name": "stdout",
     "output_type": "stream",
     "text": [
      "(array([[0., 1., 2.],\n",
      "       [1., 0., 3.],\n",
      "       [2., 3., 0.]]), array([[-9999,     0,     0],\n",
      "       [    1, -9999,     0],\n",
      "       [    2,     0, -9999]]))\n"
     ]
    }
   ],
   "source": [
    "import numpy as np\n",
    "from scipy.sparse.csgraph import floyd_warshall\n",
    "from scipy.sparse import csr_matrix\n",
    "\n",
    "arr = np.array([\n",
    "  [0, 1, 2],\n",
    "  [1, 0, 0],\n",
    "  [2, 0, 0]\n",
    "])\n",
    "\n",
    "newarr = csr_matrix(arr)\n",
    "\n",
    "print(floyd_warshall(newarr, return_predecessors=True))"
   ]
  },
  {
   "cell_type": "markdown",
   "id": "87d51baa",
   "metadata": {},
   "source": [
    "# Bellman Ford\n"
   ]
  },
  {
   "cell_type": "code",
   "execution_count": 8,
   "id": "ef760f1c",
   "metadata": {},
   "outputs": [
    {
     "name": "stdout",
     "output_type": "stream",
     "text": [
      "(array([ 0., -1.,  2.]), array([-9999,     0,     0]))\n"
     ]
    }
   ],
   "source": [
    "import numpy as np\n",
    "from scipy.sparse.csgraph import bellman_ford\n",
    "from scipy.sparse import csr_matrix\n",
    "\n",
    "arr = np.array([\n",
    "  [0, -1, 2],\n",
    "  [1, 0, 0],\n",
    "  [2, 0, 0]\n",
    "])\n",
    "\n",
    "newarr = csr_matrix(arr)\n",
    "\n",
    "print(bellman_ford(newarr, return_predecessors=True, indices=0))"
   ]
  },
  {
   "cell_type": "markdown",
   "id": "6966e858",
   "metadata": {},
   "source": [
    "# Depth First Order\n",
    "This function takes following arguments:\n",
    "\n",
    "the graph.\n",
    "the starting element to traverse graph from."
   ]
  },
  {
   "cell_type": "code",
   "execution_count": 10,
   "id": "ce9f7efd",
   "metadata": {},
   "outputs": [
    {
     "name": "stdout",
     "output_type": "stream",
     "text": [
      "(array([2, 0, 1, 3]), array([    2,     0, -9999,     1]))\n"
     ]
    }
   ],
   "source": [
    "import numpy as np\n",
    "from scipy.sparse.csgraph import depth_first_order\n",
    "from scipy.sparse import csr_matrix\n",
    "\n",
    "arr = np.array([\n",
    "  [0, 1, 0, 1],\n",
    "  [1, 1, 1, 1],\n",
    "  [2, 1, 1, 0],\n",
    "  [0, 1, 0, 1]\n",
    "])\n",
    "\n",
    "newarr = csr_matrix(arr)\n",
    "\n",
    "print(depth_first_order(newarr, 2))"
   ]
  },
  {
   "cell_type": "markdown",
   "id": "d4fe8643",
   "metadata": {},
   "source": [
    "# Breadth First Order\n"
   ]
  },
  {
   "cell_type": "code",
   "execution_count": 11,
   "id": "bba6a154",
   "metadata": {},
   "outputs": [
    {
     "name": "stdout",
     "output_type": "stream",
     "text": [
      "(array([1, 0, 2, 3]), array([    1, -9999,     1,     1]))\n"
     ]
    }
   ],
   "source": [
    "import numpy as np\n",
    "from scipy.sparse.csgraph import breadth_first_order\n",
    "from scipy.sparse import csr_matrix\n",
    "\n",
    "arr = np.array([\n",
    "  [0, 1, 0, 1],\n",
    "  [1, 1, 1, 1],\n",
    "  [2, 1, 1, 0],\n",
    "  [0, 1, 0, 1]\n",
    "])\n",
    "\n",
    "newarr = csr_matrix(arr)\n",
    "\n",
    "print(breadth_first_order(newarr, 1))"
   ]
  },
  {
   "cell_type": "markdown",
   "id": "172f19ff",
   "metadata": {},
   "source": [
    "# SciPy Spatial Data\n",
    "\n",
    "points[:,0] and points[:,1] represent the x and y coordinates of the points, respectively. Here, points[:,0] extracts all x-coordinates and points[:,1] extracts all y-coordinates.\n",
    "\n",
    "points[:, 0] and points[:, 1] extract the x and y coordinates from the points array.\n",
    "color='r' specifies the color of the markers in the scatter plot. In this case, 'r' stands for red."
   ]
  },
  {
   "cell_type": "code",
   "execution_count": 3,
   "id": "ba65b1b1",
   "metadata": {},
   "outputs": [
    {
     "data": {
      "image/png": "[encoded data removed]",
      "text/plain": [
       "<Figure size 640x480 with 1 Axes>"
      ]
     },
     "metadata": {},
     "output_type": "display_data"
    }
   ],
   "source": [
    "from scipy.spatial import Delaunay\n",
    "import matplotlib.pyplot as plt\n",
    "import numpy as np\n",
    "points = np.array([\n",
    "  [2, 4],\n",
    "  [3, 4],\n",
    "  [3, 0],\n",
    "  [2, 2],\n",
    "  [4, 1]\n",
    "])\n",
    "simplices = Delaunay(points).simplices\n",
    "plt.triplot(points[:, 0], points[:, 1], simplices)\n",
    "plt.scatter(points[:, 0], points[:, 1], color='r')\n",
    "largest_x_index = np.argmax(points[:, 0])\n",
    "largest_y_index = np.argmax(points[:, 1])\n",
    "\n",
    "# Annotate the point with the largest x-coordinate\n",
    "plt.annotate('Largest X', xy=(points[largest_x_index, 0], points[largest_x_index, 1]), xytext=(points[largest_x_index, 0] + 0.1, points[largest_x_index, 1] + 0.1),\n",
    "             arrowprops=dict(facecolor='black', arrowstyle='->'),\n",
    "             )\n",
    "\n",
    "# Annotate the point with the largest y-coordinate\n",
    "plt.annotate('Largest Y', xy=(points[largest_y_index, 0], points[largest_y_index, 1]), xytext=(points[largest_y_index, 0] + 0.1, points[largest_y_index, 1] + 0.1),\n",
    "             arrowprops=dict(facecolor='black', arrowstyle='->'),\n",
    "             )\n",
    "\n",
    "plt.xlabel('X')\n",
    "plt.ylabel('Y')\n",
    "plt.title('Delaunay Triangulation with Scatter Plot')\n",
    "plt.show()\n"
   ]
  },
  {
   "cell_type": "markdown",
   "id": "10230dab",
   "metadata": {},
   "source": [
    "# ConvexHull"
   ]
  },
  {
   "cell_type": "code",
   "execution_count": 4,
   "id": "b7ea76f9",
   "metadata": {},
   "outputs": [
    {
     "data": {
      "image/png": "[encoded data removed]",
      "text/plain": [
       "<Figure size 640x480 with 1 Axes>"
      ]
     },
     "metadata": {},
     "output_type": "display_data"
    }
   ],
   "source": [
    "import numpy as np\n",
    "from scipy.spatial import ConvexHull\n",
    "import matplotlib.pyplot as plt\n",
    "\n",
    "points = np.array([\n",
    "  [2, 4],\n",
    "  [3, 4],\n",
    "  [3, 0],\n",
    "  [2, 2],\n",
    "  [4, 1],\n",
    "  [1, 2],\n",
    "  [5, 0],\n",
    "  [3, 1],\n",
    "  [1, 2],\n",
    "  [0, 2]\n",
    "])\n",
    "\n",
    "hull = ConvexHull(points)\n",
    "hull_points = hull.simplices\n",
    "\n",
    "plt.scatter(points[:,0], points[:,1])\n",
    "for simplex in hull_points:\n",
    "  plt.plot(points[simplex,0], points[simplex,1], 'k-')\n",
    "\n",
    "plt.show()\n"
   ]
  },
  {
   "cell_type": "markdown",
   "id": "fe2487e2",
   "metadata": {},
   "source": [
    "# KDTrees\n",
    "\n",
    "The query() method returns the distance to the nearest neighbor and the location of the neighbors.\n",
    "\n",
    "\n"
   ]
  },
  {
   "cell_type": "code",
   "execution_count": 5,
   "id": "00597892",
   "metadata": {},
   "outputs": [
    {
     "name": "stdout",
     "output_type": "stream",
     "text": [
      "(2.0, 0)\n"
     ]
    }
   ],
   "source": [
    "from scipy.spatial import KDTree\n",
    "\n",
    "points = [(1, -1), (2, 3), (-2, 3), (2, -3)]\n",
    "\n",
    "kdtree = KDTree(points)\n",
    "\n",
    "res = kdtree.query((1, 1))\n",
    "\n",
    "print(res)\n"
   ]
  },
  {
   "cell_type": "markdown",
   "id": "d3a9feea",
   "metadata": {},
   "source": [
    "# Euclidean Distance\n"
   ]
  },
  {
   "cell_type": "code",
   "execution_count": 6,
   "id": "791dc497",
   "metadata": {},
   "outputs": [
    {
     "name": "stdout",
     "output_type": "stream",
     "text": [
      "9.219544457292887\n"
     ]
    }
   ],
   "source": [
    "from scipy.spatial.distance import euclidean\n",
    "\n",
    "p1 = (1, 0)\n",
    "p2 = (10, 2)\n",
    "\n",
    "res = euclidean(p1, p2)\n",
    "\n",
    "print(res)\n"
   ]
  },
  {
   "cell_type": "markdown",
   "id": "b2cd734f",
   "metadata": {},
   "source": [
    "# Cityblock Distance (Manhattan Distance)\n"
   ]
  },
  {
   "cell_type": "code",
   "execution_count": 7,
   "id": "9ee91b02",
   "metadata": {},
   "outputs": [
    {
     "name": "stdout",
     "output_type": "stream",
     "text": [
      "11\n"
     ]
    }
   ],
   "source": [
    "from scipy.spatial.distance import cityblock\n",
    "\n",
    "p1 = (1, 0)\n",
    "p2 = (10, 2)\n",
    "\n",
    "res = cityblock(p1, p2)\n",
    "\n",
    "print(res)\n"
   ]
  },
  {
   "cell_type": "markdown",
   "id": "2d683e86",
   "metadata": {},
   "source": [
    "# Cosine Distance\n"
   ]
  },
  {
   "cell_type": "code",
   "execution_count": 8,
   "id": "37d61e80",
   "metadata": {},
   "outputs": [
    {
     "name": "stdout",
     "output_type": "stream",
     "text": [
      "0.019419324309079777\n"
     ]
    }
   ],
   "source": [
    "from scipy.spatial.distance import cosine\n",
    "\n",
    "p1 = (1, 0)\n",
    "p2 = (10, 2)\n",
    "\n",
    "res = cosine(p1, p2)\n",
    "\n",
    "print(res)\n"
   ]
  },
  {
   "cell_type": "markdown",
   "id": "7425c210",
   "metadata": {},
   "source": [
    "# Hamming Distance\n"
   ]
  },
  {
   "cell_type": "code",
   "execution_count": 9,
   "id": "aa26e398",
   "metadata": {},
   "outputs": [
    {
     "name": "stdout",
     "output_type": "stream",
     "text": [
      "0.6666666666666666\n"
     ]
    }
   ],
   "source": [
    "from scipy.spatial.distance import hamming\n",
    "\n",
    "p1 = (True, False, True)\n",
    "p2 = (False, True, True)\n",
    "\n",
    "res = hamming(p1, p2)\n",
    "\n",
    "print(res)\n"
   ]
  },
  {
   "cell_type": "markdown",
   "id": "ebb80aa8",
   "metadata": {},
   "source": [
    "# SciPy Matlab Arrays\n",
    "vec is simply the name assigned to the NumPy array arr in the MATLAB MAT file. You can choose any valid MATLAB variable name as the key when saving the array using io.savemat()."
   ]
  },
  {
   "cell_type": "code",
   "execution_count": 10,
   "id": "54e9250f",
   "metadata": {},
   "outputs": [],
   "source": [
    "from scipy import io\n",
    "import numpy as np\n",
    "\n",
    "arr = np.arange(10)\n",
    "\n",
    "io.savemat('arr.mat', {\"vec\": arr})\n"
   ]
  },
  {
   "cell_type": "code",
   "execution_count": 11,
   "id": "e6ec0b18",
   "metadata": {},
   "outputs": [
    {
     "name": "stdout",
     "output_type": "stream",
     "text": [
      "{'__header__': b'MATLAB 5.0 MAT-file Platform: nt, Created on: Sat Apr 20 17:11:05 2024', '__version__': '1.0', '__globals__': [], 'vec': array([[0, 1, 2, 3, 4, 5, 6, 7, 8, 9]])}\n"
     ]
    }
   ],
   "source": [
    "# Import:\n",
    "mydata = io.loadmat('arr.mat')\n",
    "\n",
    "print(mydata)\n"
   ]
  },
  {
   "cell_type": "code",
   "execution_count": 12,
   "id": "f5204085",
   "metadata": {},
   "outputs": [
    {
     "name": "stdout",
     "output_type": "stream",
     "text": [
      "[[0 1 2 3 4 5 6 7 8 9]]\n"
     ]
    }
   ],
   "source": [
    "print(mydata['vec'])\n"
   ]
  },
  {
   "cell_type": "markdown",
   "id": "a5b1705c",
   "metadata": {},
   "source": [
    "# do_compression "
   ]
  },
  {
   "cell_type": "code",
   "execution_count": 13,
   "id": "cf8f275a",
   "metadata": {},
   "outputs": [
    {
     "name": "stdout",
     "output_type": "stream",
     "text": [
      "[0 1 2 3 4 5 6 7 8 9]\n"
     ]
    }
   ],
   "source": [
    "mydata = io.loadmat('arr.mat', squeeze_me=True)\n",
    "\n",
    "print(mydata['vec'])\n"
   ]
  },
  {
   "cell_type": "markdown",
   "id": "cb9cb9b9",
   "metadata": {},
   "source": [
    "# 1D Interpolation\n",
    "\n",
    "Here, we import the necessary libraries. interp1d is used for 1-dimensional interpolation, and numpy (aliased as np) is used for array manipulation.\n",
    "\n",
    " it will generate a sequence of values starting from 2.1, incrementing by 0.1, until it reaches a value just below 3."
   ]
  },
  {
   "cell_type": "code",
   "execution_count": 21,
   "id": "2860f0e1",
   "metadata": {},
   "outputs": [
    {
     "name": "stdout",
     "output_type": "stream",
     "text": [
      "[ 5.2  5.4  5.6  5.8  6.   6.2  6.4  6.6  6.8  7.   7.2  7.4  7.6  7.8\n",
      "  8.   8.2  8.4  8.6  8.8  9.   9.2  9.4  9.6  9.8 10.  10.2 10.4 10.6\n",
      " 10.8]\n"
     ]
    }
   ],
   "source": [
    "from scipy.interpolate import interp1d\n",
    "import numpy as np\n",
    "\n",
    "xs = np.arange(10)\n",
    "ys = 2*xs + 1\n",
    "\n",
    "interp_func = interp1d(xs, ys)\n",
    "\n",
    "newarr = interp_func(np.arange(2.1, 5, 0.1))\n",
    "\n",
    "print(newarr)\n"
   ]
  },
  {
   "cell_type": "markdown",
   "id": "643d7571",
   "metadata": {},
   "source": [
    "# CubicSpline"
   ]
  },
  {
   "cell_type": "code",
   "execution_count": 22,
   "id": "cd9f9474",
   "metadata": {},
   "outputs": [
    {
     "data": {
      "image/png": "[encoded data removed]",
      "text/plain": [
       "<Figure size 640x480 with 1 Axes>"
      ]
     },
     "metadata": {},
     "output_type": "display_data"
    }
   ],
   "source": [
    "from scipy.interpolate import CubicSpline\n",
    "import numpy as np\n",
    "import matplotlib.pyplot as plt\n",
    "\n",
    "# Define original data points\n",
    "x = np.array([1, 2, 3, 4, 5])\n",
    "y = np.array([2, 3, 5, 4, 6])\n",
    "\n",
    "# Perform cubic spline interpolation\n",
    "cs = CubicSpline(x, y)\n",
    "\n",
    "# Generate x-values for plotting\n",
    "x_interp = np.linspace(1, 5, 100)\n",
    "\n",
    "# Interpolate y-values using the cubic spline\n",
    "y_interp = cs(x_interp)\n",
    "\n",
    "# Plot original data points and interpolated curve\n",
    "plt.scatter(x, y, label='Original Data')\n",
    "plt.plot(x_interp, y_interp, label='Cubic Spline Interpolation')\n",
    "plt.xlabel('x')\n",
    "plt.ylabel('y')\n",
    "plt.title('Cubic Spline Interpolation')\n",
    "plt.legend()\n",
    "plt.grid(True)\n",
    "plt.show()\n"
   ]
  },
  {
   "cell_type": "code",
   "execution_count": 23,
   "id": "85e048e1",
   "metadata": {},
   "outputs": [
    {
     "name": "stdout",
     "output_type": "stream",
     "text": [
      "[5.62826474 6.03987348 6.47131994 6.92265019 7.3939103  7.88514634\n",
      " 8.39640439 8.92773053 9.47917082]\n"
     ]
    }
   ],
   "source": [
    "from scipy.interpolate import UnivariateSpline\n",
    "import numpy as np\n",
    "\n",
    "xs = np.arange(10)\n",
    "ys = xs**2 + np.sin(xs) + 1\n",
    "\n",
    "interp_func = UnivariateSpline(xs, ys)\n",
    "\n",
    "newarr = interp_func(np.arange(2.1, 3, 0.1))\n",
    "\n",
    "print(newarr)\n"
   ]
  },
  {
   "cell_type": "markdown",
   "id": "74159142",
   "metadata": {},
   "source": [
    "# rbf"
   ]
  },
  {
   "cell_type": "code",
   "execution_count": 24,
   "id": "b3646c85",
   "metadata": {},
   "outputs": [
    {
     "data": {
      "image/png": "[encoded data removed]",
      "text/plain": [
       "<Figure size 640x480 with 1 Axes>"
      ]
     },
     "metadata": {},
     "output_type": "display_data"
    }
   ],
   "source": [
    "from scipy.interpolate import Rbf\n",
    "import numpy as np\n",
    "import matplotlib.pyplot as plt\n",
    "\n",
    "# Define original data points\n",
    "x = np.array([1, 2, 3, 4, 5])\n",
    "y = np.array([2, 3, 5, 4, 6])\n",
    "z = np.array([1, 2, 3, 4, 5])  # z-coordinate (optional)\n",
    "\n",
    "# Perform RBF interpolation\n",
    "rbf = Rbf(x, y, z)\n",
    "\n",
    "# Generate grid points for interpolation\n",
    "x_interp = np.linspace(1, 5, 100)\n",
    "y_interp = np.linspace(2, 6, 100)\n",
    "X, Y = np.meshgrid(x_interp, y_interp)\n",
    "Z = rbf(X, Y)\n",
    "\n",
    "# Plot original data points and interpolated surface\n",
    "fig = plt.figure()\n",
    "ax = fig.add_subplot(111, projection='3d')\n",
    "ax.scatter(x, y, z, color='red', label='Original Data')\n",
    "ax.plot_surface(X, Y, Z, cmap='viridis', alpha=0.5)\n",
    "ax.set_xlabel('X')\n",
    "ax.set_ylabel('Y')\n",
    "ax.set_zlabel('Z')\n",
    "ax.set_title('RBF Interpolation')\n",
    "ax.legend()\n",
    "plt.show()\n"
   ]
  },
  {
   "cell_type": "code",
   "execution_count": null,
   "id": "55184bc1",
   "metadata": {},
   "outputs": [],
   "source": []
  }
 ],
 "metadata": {
  "kernelspec": {
   "display_name": "Python 3 (ipykernel)",
   "language": "python",
   "name": "python3"
  },
  "language_info": {
   "codemirror_mode": {
    "name": "ipython",
    "version": 3
   },
   "file_extension": ".py",
   "mimetype": "text/x-python",
   "name": "python",
   "nbconvert_exporter": "python",
   "pygments_lexer": "ipython3",
   "version": "3.9.13"
  }
 },
 "nbformat": 4,
 "nbformat_minor": 5
}
